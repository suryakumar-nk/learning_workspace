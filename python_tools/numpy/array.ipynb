{
 "cells": [
  {
   "cell_type": "code",
   "execution_count": 1,
   "metadata": {},
   "outputs": [
    {
     "name": "stdout",
     "output_type": "stream",
     "text": [
      "\n",
      "creating 1D array\n",
      "[1 2 3]\n",
      "(3,)\n",
      "dimension 1\n",
      "\n",
      "creating 2D array\n",
      "[[1 2]\n",
      " [3 4]]\n",
      "(2, 2)\n",
      "dimension 2\n",
      "\n",
      "creating 3D array\n",
      "[[[1 2]\n",
      "  [3 4]]\n",
      "\n",
      " [[5 6]\n",
      "  [7 8]]]\n",
      "(2, 2, 2)\n",
      "dimension 3\n"
     ]
    }
   ],
   "source": [
    "import numpy as np\n",
    "\n",
    "#creating an array in numpy\n",
    "\n",
    "print(\"\\ncreating 1D array\")\n",
    "a1 = np.array([1,2,3])\n",
    "print(a1)\n",
    "print(a1.shape)\n",
    "print(\"dimension\", a1.ndim)\n",
    "\n",
    "print(\"\\ncreating 2D array\")\n",
    "a2 = np.array([[1,2], [3,4]])\n",
    "print(a2)\n",
    "print(a2.shape)\n",
    "print(\"dimension\", a2.ndim)\n",
    "\n",
    "print(\"\\ncreating 3D array\")\n",
    "a3 = np.array([[[1,2], [3,4]], [[5,6], [7,8]]])\n",
    "print(a3)\n",
    "print(a3.shape)\n",
    "print(\"dimension\", a3.ndim)"
   ]
  },
  {
   "cell_type": "code",
   "execution_count": 2,
   "metadata": {},
   "outputs": [
    {
     "name": "stdout",
     "output_type": "stream",
     "text": [
      "3\n",
      "4\n",
      "6\n",
      "[[1 2 3]]\n",
      "[1 4 9]\n"
     ]
    }
   ],
   "source": [
    "# indexing\n",
    "\n",
    "print(a1[2])\n",
    "print(a2[1,1])\n",
    "print(a3[1,0,1])\n",
    "\n",
    "print(np.array([1,2,3], ndmin=2)) #make one dim array to two dim\n",
    "\n",
    "print(a1**2)"
   ]
  },
  {
   "cell_type": "code",
   "execution_count": 4,
   "metadata": {},
   "outputs": [
    {
     "name": "stdout",
     "output_type": "stream",
     "text": [
      "int64\n",
      "[[1 2]\n",
      " [3 4]]\n",
      "modified array dim 2\n",
      "int64\n",
      "8\n",
      "changing dtype\n",
      "[[1. 2.]\n",
      " [3. 4.]]\n",
      "float64\n"
     ]
    }
   ],
   "source": [
    "#Data type\n",
    "\n",
    "a = np.array([1,2,3,4])\n",
    "print(a.dtype)\n",
    "a = a.reshape(2,2)\n",
    "print(a)\n",
    "print('modified array dim', a.ndim)\n",
    "print(a.dtype)\n",
    "print(a.itemsize)\n",
    "\n",
    "print('changing dtype')\n",
    "a = np.array(a, dtype=np.float64)\n",
    "print(a)\n",
    "print(a.dtype)"
   ]
  },
  {
   "cell_type": "code",
   "execution_count": 5,
   "metadata": {},
   "outputs": [
    {
     "name": "stdout",
     "output_type": "stream",
     "text": [
      "complex type\n",
      "[[1.+0.j 2.+0.j]\n",
      " [3.+0.j 4.+0.j]]\n"
     ]
    }
   ],
   "source": [
    "print(\"complex type\")\n",
    "a = np.array(a, dtype=np.complex_)\n",
    "print(a)"
   ]
  },
  {
   "cell_type": "code",
   "execution_count": 6,
   "metadata": {},
   "outputs": [
    {
     "data": {
      "text/plain": [
       "array([1.+0.j, 2.+0.j, 3.+0.j, 4.+0.j])"
      ]
     },
     "execution_count": 6,
     "metadata": {},
     "output_type": "execute_result"
    }
   ],
   "source": [
    "a.ravel() #make n dim to one dim array"
   ]
  },
  {
   "cell_type": "code",
   "execution_count": 8,
   "metadata": {},
   "outputs": [
    {
     "name": "stdout",
     "output_type": "stream",
     "text": [
      "minimum = 0 maximum = 20\n",
      "sum = 110\n",
      "[0.         1.41421356 2.         2.44948974 2.82842712 3.16227766\n",
      " 3.46410162 3.74165739 4.         4.24264069 4.47213595]\n",
      "10.0\n",
      "1.118033988749895\n"
     ]
    }
   ],
   "source": [
    "# Mathematical function\n",
    "a = np.arange(0,21,2)\n",
    "print('minimum =', a.min(), 'maximum =', a.max())\n",
    "print('sum =', a.sum())\n",
    "print(np.sqrt(a))\n",
    "print(np.mean(a))\n",
    "print(np.std(np.array([1,2,3,4])))"
   ]
  },
  {
   "cell_type": "code",
   "execution_count": 9,
   "metadata": {},
   "outputs": [
    {
     "name": "stdout",
     "output_type": "stream",
     "text": [
      "[[ 1  3  5  7  9]\n",
      " [11 13 15 17 19]]\n",
      "[[ 2  4  6  8 10]\n",
      " [12 14 16 18 20]]\n",
      "Multiplication\n",
      "[[  2  12  30  56  90]\n",
      " [132 182 240 306 380]]\n",
      "Matrix multiplication\n",
      "[[ 1  3  5  7  9]\n",
      " [11 13 15 17 19]]\n",
      "[[ 2  4]\n",
      " [ 6  8]\n",
      " [10 12]\n",
      " [14 16]\n",
      " [18 20]]\n",
      "[[330 380]\n",
      " [830 980]]\n"
     ]
    }
   ],
   "source": [
    "a = np.arange(1,21,2).reshape(2,5)\n",
    "print(a)\n",
    "b = np.arange(2,21,2).reshape(2,5)\n",
    "print(b)\n",
    "print('Multiplication')\n",
    "print(a*b)\n",
    "print('Matrix multiplication')\n",
    "print(a)\n",
    "print(b.reshape(5,2))\n",
    "print(a.dot(b.reshape(5,2)))"
   ]
  },
  {
   "cell_type": "markdown",
   "metadata": {},
   "source": []
  },
  {
   "cell_type": "code",
   "execution_count": 10,
   "metadata": {},
   "outputs": [
    {
     "name": "stdout",
     "output_type": "stream",
     "text": [
      "[[1 2 3]\n",
      " [4 5 6]\n",
      " [7 8 9]]\n",
      "[[2]\n",
      " [5]\n",
      " [8]]\n"
     ]
    }
   ],
   "source": [
    "a = np.arange(1,10).reshape(3,3)\n",
    "print(a)\n",
    "print(a[:,1:2])"
   ]
  },
  {
   "cell_type": "code",
   "execution_count": 11,
   "metadata": {},
   "outputs": [
    {
     "name": "stdout",
     "output_type": "stream",
     "text": [
      "the execution time normal array is: 19.057035446166992\n",
      "the execution time numpy array is: 1.607656478881836\n"
     ]
    }
   ],
   "source": [
    "'''\n",
    "    numpy array stores numbers list different from python list.\n",
    "    python list stores numbers as object where numpy array stores as interger.\n",
    "    python list one number store 10byte more than np array.\n",
    "    python list stores in linked list format where numpy stores numbers in continuous memory.\n",
    "'''\n",
    "\n",
    "size = 100000\n",
    "\n",
    "l1 = range(size)\n",
    "l2 = range(size)\n",
    "\n",
    "a1 = np.arange(size)\n",
    "a2 = np.arange(size)\n",
    "\n",
    "import time\n",
    "\n",
    "start = time.time()\n",
    "result =  [(z+y) for z,y in zip(l1,l2)]\n",
    "print(\"the execution time normal array is:\", (time.time()-start)*1000)\n",
    "\n",
    "start = time.time()\n",
    "result = a1 + a2\n",
    "print(\"the execution time numpy array is:\", (time.time()-start)*1000)"
   ]
  }
 ],
 "metadata": {
  "kernelspec": {
   "display_name": "Python 3",
   "language": "python",
   "name": "python3"
  },
  "language_info": {
   "codemirror_mode": {
    "name": "ipython",
    "version": 3
   },
   "file_extension": ".py",
   "mimetype": "text/x-python",
   "name": "python",
   "nbconvert_exporter": "python",
   "pygments_lexer": "ipython3",
   "version": "3.10.12"
  }
 },
 "nbformat": 4,
 "nbformat_minor": 2
}
